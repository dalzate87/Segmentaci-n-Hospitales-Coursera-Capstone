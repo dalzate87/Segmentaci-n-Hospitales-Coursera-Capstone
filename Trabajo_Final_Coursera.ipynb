{
  "nbformat": 4,
  "nbformat_minor": 0,
  "metadata": {
    "colab": {
      "name": "Untitled0.ipynb",
      "provenance": [],
      "collapsed_sections": []
    },
    "kernelspec": {
      "name": "python3",
      "display_name": "Python 3"
    },
    "language_info": {
      "name": "python"
    }
  },
  "cells": [
    {
      "cell_type": "markdown",
      "source": [
        "### Descripción del Problema ###"
      ],
      "metadata": {
        "id": "E2GTK1SJPjkH"
      }
    },
    {
      "cell_type": "markdown",
      "source": [
        "La pobreza y la desigualdad son temas de gran relevancia que se tratan dentro de la economía, pues teniendo en cuenta que el eje de la misma ciencia son las personas y sus relaciones sociales de consumo y acumulación, la pobreza como un fenómeno descrito según Salinas (2006) como la falta o carencia de recursos para acceder a los bienes y servicios que satisfacen las necesidades básicas, es decir aquellas elementos mínimos indispensables que los seres humanos necesitan para vivir, en ese orden de ideas la existencia de pobreza implica la incapacidad de satisfacer las necesidades mínimas, dado quee estas son simultáneas, es decir que todas son necesarias a la vez y complementarias, lo que implica que si no puede subsanarse una necesidad básica a pesar de poder satisfacer las otras seguira existiendo un estado donde no se alcanze un nivel mínimo de bienestar. \n",
        "\n",
        "Otra definición de pobreza según Sen (2000), la pobreza se puede definir como la privación de capacidades básicas y no exlusivamente la falta de ingresos, las capacidades se definen como la capacidad de lograr el dessarrollo humano en base a las libertades de los individuos que definen sus objetivos y propósitos para alcanzar lo que llaman los estoicos la virtud o la \"Buena vida\", en este caso la concepción de pobreza al no depender unicamente del nivel ingreso, implica que la presencia de insatisfacción, de coerción o una libertad insuficiente implican condiciones de pobreza también independientemente del nivel de ingreso.\n",
        "\n",
        "Por otra parte, otro elemento relevante dentro del análisis de la pobreza desde la perspectiva económica es la existencia de dos cuestiones: La existencia y acumulación de capital humano permiten mejorar la produtividad de los individuos y se espera que el retorno sea proporcional a esta, por otra parte la transmisión intergeneracional de pobreza y las trampas de pobreza, estas implican la existencia de condiciones que impiden romper los circulos de pobreza en los hogares, es decir el acceso limitado al crédito y los mercados de capitales y la exclusión de los pobres en el mercado dada su incapacidad de poder adquisitivo para acceder al mismo, de esta manera la marginación social y económica, las trampas de pobreza y las condiciones sociales de la misma como enfermar más, tener peores niveles de salud, nutrición, acceso a servicios públicos y en general la participación de las instituciones que satisfacen necesidades básicas como la salud en el marco privado han generado un incremento en la desigualdad respecto al acceso y calidad de los servicios de salud, perjudicando a las personas más vulnerables dado que deben afrontar altos costos de transacción en estos servicios en términos de espera, atención oportuna y control de enfermedades crónicas o agudas que pueden tener repercusiones en los niveles de salud futura y por ende en su nivel de capital humano intertemporal.\n",
        "\n",
        "En base a esta descripción se buscará generar una segmentación de hospitales por zonas dadas otras variables económicas descriptivas de tal manera que se pueda segmentar zonas con baja densidad de servicios hospitalarios que tengan indicadores económicos que sugieran la presencia de precariedad y/o pobreza multidimensional, de tal manera que sea un insumo para la detección de lugares vulnerables en Bogotá en términos de atención hospitalaria y con indices que muestran alta presencia de pobreza, así se puedan tomar decisiones de política pública para los incrementos en la oferta en salud en lugares de riesgo de presencia de pobreza.\n",
        "\n"
      ],
      "metadata": {
        "id": "8kHSwuvTjKIf"
      }
    },
    {
      "cell_type": "markdown",
      "source": [
        "### Descripción de los Datos ###"
      ],
      "metadata": {
        "id": "VuHMh0uQs13O"
      }
    },
    {
      "cell_type": "markdown",
      "source": [
        "- Utilizaremos variables como localidades en Bogotá, la presencia de los distintos estratos dentro de cada una es decir una clasificación socieconómica de las personas que viven en cada localidad, donde el estrato 1 es el más bajo es decir en estos lugares habitan personas en condición de pobreza mientras que el estrato 6 habitan las personas que mayor nivel de ingreso o riqueza tienen en Bogotá.\n",
        "\n",
        "- Realizaremos una exploración de hospitales dentro de cada localidad a un área de 2km de esta manera, intentaremos obtener una aproximación de los niveles de acceso a la salud por localidad. \n",
        "\n",
        "- Sin embargo es importante recalcar que dado que el marco legal restringe el acceso a hospitales en forma de afiliación a sistema de salud y la asignación de sedes de atención médica, no necesariamente  manzanas con alta densidad de servicios médicos implican un alto acceso a servicios de salud para las personas que viven en esas zonas, al menos para personas con una alta sensibilidad al precio en los niveles de salud, es decir las personas de los estratos mas bajos (1,2 y 3).\n",
        "\n",
        "- Finalmente usaremos variables sobre el nivel de pobreza multidimensional para categorias de educación, niñez y juventud, trabajo, salud y vivienda por localidad."
      ],
      "metadata": {
        "id": "wXR_i1ACtKnl"
      }
    },
    {
      "cell_type": "code",
      "execution_count": null,
      "metadata": {
        "id": "nZs1hH_MPgx2"
      },
      "outputs": [],
      "source": [
        ""
      ]
    }
  ]
}